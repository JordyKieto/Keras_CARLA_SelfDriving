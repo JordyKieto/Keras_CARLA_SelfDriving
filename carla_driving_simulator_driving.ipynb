{
  "nbformat": 4,
  "nbformat_minor": 0,
  "metadata": {
    "colab": {
      "provenance": [],
      "machine_shape": "hm",
      "gpuType": "L4"
    },
    "kernelspec": {
      "name": "python3",
      "display_name": "Python 3"
    },
    "language_info": {
      "name": "python"
    },
    "accelerator": "GPU"
  },
  "cells": [
    {
      "cell_type": "code",
      "execution_count": null,
      "metadata": {
        "colab": {
          "base_uri": "https://localhost:8080/"
        },
        "id": "H237vfCIbCSK",
        "outputId": "a8b640e9-1d57-4158-8648-e3852eae00fc"
      },
      "outputs": [
        {
          "output_type": "stream",
          "name": "stdout",
          "text": [
            "Collecting carla\n",
            "  Downloading carla-0.9.15-cp310-cp310-manylinux_2_27_x86_64.whl (31.9 MB)\n",
            "\u001b[2K     \u001b[90m━━━━━━━━━━━━━━━━━━━━━━━━━━━━━━━━━━━━━━━━\u001b[0m \u001b[32m31.9/31.9 MB\u001b[0m \u001b[31m45.2 MB/s\u001b[0m eta \u001b[36m0:00:00\u001b[0m\n",
            "\u001b[?25hInstalling collected packages: carla\n",
            "Successfully installed carla-0.9.15\n"
          ]
        }
      ],
      "source": [
        "!pip install carla"
      ]
    },
    {
      "cell_type": "code",
      "source": [
        "! sudo ./CarlaUE4.sh"
      ],
      "metadata": {
        "colab": {
          "base_uri": "https://localhost:8080/"
        },
        "id": "aQ5oIsV7w5XP",
        "outputId": "dbb2db26-6779-472c-f189-77c6a973afa1"
      },
      "execution_count": null,
      "outputs": [
        {
          "output_type": "stream",
          "name": "stdout",
          "text": [
            "Refusing to run with the root privileges.\n"
          ]
        }
      ]
    },
    {
      "cell_type": "code",
      "source": [
        "# Package imports\n",
        "\n",
        "import socket\n",
        "import carla\n",
        "import math\n",
        "import random\n",
        "import time\n",
        "import numpy as np\n",
        "import matplotlib.pyplot as plt\n",
        "from PIL import Image\n",
        "import os\n",
        "import tensorflow as tf"
      ],
      "metadata": {
        "id": "ZbDilgTvbiOw"
      },
      "execution_count": null,
      "outputs": []
    },
    {
      "cell_type": "code",
      "source": [
        "# Creating carla & world clients\n",
        "client = carla.Client('localhost', 2000)\n",
        "world = client.get_world()"
      ],
      "metadata": {
        "id": "XGZn8eiQbnF_"
      },
      "execution_count": null,
      "outputs": []
    },
    {
      "cell_type": "code",
      "source": [
        "# Selecting the control vehicle\n",
        "vehicle_id = 24\n",
        "vehicle = world.get_actor(vehicle_id)"
      ],
      "metadata": {
        "id": "7oKAIaKCbpPc"
      },
      "execution_count": null,
      "outputs": []
    },
    {
      "cell_type": "code",
      "source": [
        "def process_image(image_path):\n",
        "    absolute_path = os.path.abspath(image_path)\n",
        "    image = Image.open(absolute_path)\n",
        "    image = image.resize((800, 600))  # Resize to 800x600 pixels\n",
        "    image = np.array(image) / 255.0  # Normalize to [0, 1]\n",
        "    return image"
      ],
      "metadata": {
        "id": "Fh3xcFavb6IQ"
      },
      "execution_count": null,
      "outputs": []
    },
    {
      "cell_type": "code",
      "source": [
        "model = tf.keras.models.load_model('vehicle_control_model.h5')"
      ],
      "metadata": {
        "id": "FgDL0yVFb9s4"
      },
      "execution_count": null,
      "outputs": []
    },
    {
      "cell_type": "code",
      "source": [
        "def auto_pilot(vehicle, model):\n",
        "    def helper(image):\n",
        "        image_file = f'./out/{image.frame}.png'\n",
        "        image.save_to_disk(image_file)\n",
        "        processed_image = process_image(image_file)\n",
        "\n",
        "        # Ensure the image has the correct shape\n",
        "        processed_image = np.expand_dims(processed_image, axis=0)  # Add batch dimension\n",
        "\n",
        "        # Get predictions from the model\n",
        "        predictions = model.predict(processed_image)\n",
        "        throttle, steer, brake, hand_brake, reverse, manual_gear_shift, gear = predictions[0]\n",
        "\n",
        "        # Convert predictions to the appropriate types\n",
        "        hand_brake = bool(round(hand_brake))\n",
        "        reverse = bool(round(reverse))\n",
        "        manual_gear_shift = bool(round(manual_gear_shift))\n",
        "        gear = int(round(gear))\n",
        "\n",
        "        # Create a control object with the predicted values\n",
        "        control = carla.VehicleControl(\n",
        "            throttle=throttle,\n",
        "            steer=steer,\n",
        "            brake=brake,\n",
        "            hand_brake=hand_brake,\n",
        "            reverse=reverse,\n",
        "            manual_gear_shift=manual_gear_shift,\n",
        "            gear=gear\n",
        "        )\n",
        "\n",
        "        vehicle.apply_control(control)\n",
        "\n",
        "    return helper"
      ],
      "metadata": {
        "id": "CKdxes_7b-6K"
      },
      "execution_count": null,
      "outputs": []
    },
    {
      "cell_type": "code",
      "source": [
        "# Run this listen method to turn on autopilot\n",
        "\n",
        "camera_bp = bp_lib.find('sensor.camera.rgb')\n",
        "camera_init_trans = carla.Transform(carla.Location(z=1.6, x=0.4))\n",
        "camera = world.spawn_actor(camera_bp, camera_init_trans, attach_to=vehicle)\n",
        "\n",
        "camera.listen(auto_pilot(vehicle, model))"
      ],
      "metadata": {
        "id": "LV_XaZEWcGh7"
      },
      "execution_count": null,
      "outputs": []
    },
    {
      "cell_type": "code",
      "source": [
        "# Stop autopilot\n",
        "camera.stop()"
      ],
      "metadata": {
        "id": "ZoEdw7nTcH_7"
      },
      "execution_count": null,
      "outputs": []
    }
  ]
}